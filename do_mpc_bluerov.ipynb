{
 "cells": [
  {
   "cell_type": "code",
   "execution_count": 1,
   "metadata": {},
   "outputs": [],
   "source": [
    "import numpy as np\n",
    "import sys\n",
    "from casadi import *\n",
    "\n",
    "# Import do_mpc package:\n",
    "import do_mpc\n",
    "import math "
   ]
  },
  {
   "cell_type": "code",
   "execution_count": 2,
   "metadata": {},
   "outputs": [],
   "source": [
    "model_type = 'continuous' # either 'discrete' or 'continuous'\n",
    "model = do_mpc.model.Model(model_type)"
   ]
  },
  {
   "cell_type": "code",
   "execution_count": 3,
   "metadata": {},
   "outputs": [],
   "source": [
    "#state variables\n",
    "eta = model.set_variable(var_type='_x', var_name='eta', shape=(6,1))\n",
    "v = model.set_variable(var_type='_x', var_name='v', shape=(6,1))\n",
    "\n",
    "#Velocity vector\n",
    "# eta_dot = model.set_variable(var_type='_z', var_name='eta_dot', shape=(6,1))\n",
    "# v_dot = model.set_variable(var_type='_z', var_name='v_dot', shape=(6,1))\n",
    "\n",
    "# Input\n",
    "thrust = model.set_variable(var_type='_u', var_name='thrust', shape=(6,1))"
   ]
  },
  {
   "attachments": {},
   "cell_type": "markdown",
   "metadata": {},
   "source": [
    "Paarameters"
   ]
  },
  {
   "cell_type": "code",
   "execution_count": 4,
   "metadata": {},
   "outputs": [],
   "source": [
    "x_g = 0\n",
    "y_g = 0\n",
    "z_g = 0\n",
    "x_b = 0\n",
    "y_b = 0\n",
    "z_b = -0.01\n",
    "\n",
    "#added mass coefficients\n",
    "X_ud = 6.356673886738176\n",
    "Y_vd = 7.120600295756984\n",
    "Z_wd = 18.686326861534997\n",
    "K_pd = 0.185765630747592\n",
    "M_qd = 0.134823349429660\n",
    "N_rd = 0.221510466644690\n",
    "#drag \n",
    "Xu = {\"Linear\": 13.7, \"NonLinear\": 141}\n",
    "Yv = {\"Linear\": 0, \"NonLinear\": 217}\n",
    "Zw = {\"Linear\": 33, \"NonLinear\": 190}\n",
    "Kp = {\"Linear\": 0, \"NonLinear\": 1.192}\n",
    "Mq = {\"Linear\": 0.8, \"NonLinear\": 0.470}\n",
    "Nr = {\"Linear\": 0, \"NonLinear\": 1.5}\n"
   ]
  },
  {
   "cell_type": "code",
   "execution_count": 5,
   "metadata": {},
   "outputs": [],
   "source": [
    "m = 13.5 # Mass of the Robot\n",
    "\n",
    "I_x, I_y, I_z = 0.26, 0.23, 0.37 # Mass Moments of Inertia\n",
    "\n",
    "L_h, L_w, L_l = 0.378, 0.575, 0.457 \n",
    "\n",
    "A_F, A_S, A_T = 0.0877, 0.1131, 0.2049\n",
    "\n",
    "Volume = 0.0135\n",
    "\n",
    "Ic = np.array([[0.26, 0, 0],\n",
    "      [0, 0.23, 0],\n",
    "      [0, 0, 0.37]])\n",
    "\n",
    "Ap_F, Ap_S, Ap_T = 0.1727, 0.2174, 0.2628"
   ]
  },
  {
   "attachments": {},
   "cell_type": "markdown",
   "metadata": {},
   "source": [
    "Mass matrix"
   ]
  },
  {
   "cell_type": "code",
   "execution_count": 6,
   "metadata": {},
   "outputs": [],
   "source": [
    "#Rigid-body mass\n",
    "M_RB = np.array([[m, 0, 0, 0, 0, 0],\n",
    "              [0, m, 0, 0, 0, 0],\n",
    "              [0, 0, m, 0, 0, 0],\n",
    "              [0, 0, 0, I_x, 0, 0 ],\n",
    "              [0, 0, 0, 0, I_y, 0 ],\n",
    "              [0, 0, 0, 0, 0, I_z ]])\n",
    "#added mass\n",
    "M_A = -1 * np.array([[X_ud, 0, 0, 0, 0, 0],\n",
    "              [0, Y_vd, 0, 0, 0, 0],\n",
    "              [0, 0, Z_wd, 0, 0, 0],\n",
    "              [0, 0, 0, K_pd, 0, 0 ],\n",
    "              [0, 0, 0, 0, M_qd, 0 ],\n",
    "              [0, 0, 0, 0, 0, N_rd ]])\n",
    "M = M_RB + M_A"
   ]
  },
  {
   "attachments": {},
   "cell_type": "markdown",
   "metadata": {},
   "source": [
    "Coriolis"
   ]
  },
  {
   "cell_type": "code",
   "execution_count": 7,
   "metadata": {},
   "outputs": [],
   "source": [
    "#the rigid body Coriolis\n",
    "# v = [u v w p q r]\n",
    "C_RB = np.array([\n",
    "    [0, 0, 0, 0, m*v[2], -m*v[1]],\n",
    "    [0, 0,0, -m*v[2], 0, m*v[0]],\n",
    "    [0, 0, 0, m*v[1], -m*v[0], 0],\n",
    "    [0, m*v[2], -m*v[1], 0, -I_z*v[5], -I_y*v[4]],\n",
    "    [-m*v[2], 0, m*v[0], I_z*v[5], 0, I_x*v[3],],\n",
    "    [m*v[1], -m*v[0], 0, I_y*v[4], -I_x*v[3], 0],\n",
    "    ])\n",
    "\n",
    "# added mass Coriolis\n",
    "C_A = np.array([\n",
    "    [0, 0, 0,0, -Z_wd*v[2], Y_vd*v[1]],\n",
    "    [0, 0, 0, Z_wd*v[2], 0,-X_ud*v[0]], \n",
    "    [0, 0, 0, -Y_vd*v[1], X_ud*v[0], 0],\n",
    "    [0, -Z_wd*v[2], Y_vd*v[1], 0, -N_rd*v[5], M_qd*v[4]],\n",
    "    [Z_wd*v[2], 0, -X_ud*v[0], N_rd*v[5], 0, -K_pd*v[3]],\n",
    "    [-Y_vd*v[1], X_ud*v[0], 0, -M_qd*v[4], K_pd*v[3], 0],\n",
    "    ])\n",
    "C = C_RB + C_A"
   ]
  },
  {
   "attachments": {},
   "cell_type": "markdown",
   "metadata": {},
   "source": [
    "Drag"
   ]
  },
  {
   "cell_type": "code",
   "execution_count": 8,
   "metadata": {},
   "outputs": [],
   "source": [
    "D_lin = np.array([\n",
    "    [Xu[\"Linear\"], 0, 0, 0, 0, 0],\n",
    "    [0, Yv[\"Linear\"], 0, 0, 0, 0],\n",
    "    [0, 0, Zw[\"Linear\"], 0, 0, 0],\n",
    "    [0, 0, 0, Kp[\"Linear\"], 0, 0],\n",
    "    [0, 0, 0, 0, Mq[\"Linear\"], 0],\n",
    "    [0, 0, 0, 0, 0, Nr[\"Linear\"]]\n",
    "])\n",
    "    \n",
    "D_nonlin = np.array([\n",
    "    [Xu[\"NonLinear\"] * v[0], 0, 0, 0, 0, 0 ],\n",
    "    [0, Yv[\"NonLinear\"] * v[1], 0, 0, 0, 0 ],\n",
    "    [0, 0, Zw[\"NonLinear\"] * v[2], 0, 0, 0 ],\n",
    "    [0, 0, 0, Kp[\"NonLinear\"] * v[3], 0, 0 ],\n",
    "    [0, 0, 0, 0, Mq[\"NonLinear\"] * v[4], 0 ],\n",
    "    [0, 0, 0, 0, 0, Nr[\"NonLinear\"] * v[5] ],        \n",
    "])\n",
    "\n",
    "D = D_lin + D_nonlin"
   ]
  },
  {
   "attachments": {},
   "cell_type": "markdown",
   "metadata": {},
   "source": [
    "G and B"
   ]
  },
  {
   "cell_type": "code",
   "execution_count": 9,
   "metadata": {},
   "outputs": [],
   "source": [
    "W = m * 9.81\n",
    "B = 1000 * Volume * 9.81\n",
    "\n",
    "# eta = [x y z phi theta epsi]\n",
    "phi = eta[3]\n",
    "theta = eta[4]\n",
    "psi = eta[5]"
   ]
  },
  {
   "cell_type": "code",
   "execution_count": 10,
   "metadata": {},
   "outputs": [],
   "source": [
    "G = np.array([\n",
    "    (W - B) * math.sin(theta),\n",
    "    -(W - B) * math.cos(theta) * math.sin(phi),\n",
    "    -(W - B) * math.cos(theta) * math.cos(phi),\n",
    "    -(y_g*W - y_b*B)*math.cos(theta)*math.cos(phi) + (z_g*W - z_b*B)*math.cos(theta)*math.sin(phi),\n",
    "    (z_g*W - z_b*B)*math.sin(theta) + (x_g*W - x_b*B)*math.cos(theta)*math.cos(phi),\n",
    "    -(x_g*W - x_b*B)*math.cos(theta)*math.sin(phi) - (y_g*W - y_b*B)*math.sin(theta)\n",
    "])"
   ]
  },
  {
   "attachments": {},
   "cell_type": "markdown",
   "metadata": {},
   "source": [
    "J"
   ]
  },
  {
   "cell_type": "code",
   "execution_count": 11,
   "metadata": {},
   "outputs": [
    {
     "name": "stderr",
     "output_type": "stream",
     "text": [
      "<>:18: SyntaxWarning: list indices must be integers or slices, not tuple; perhaps you missed a comma?\n",
      "<>:18: SyntaxWarning: list indices must be integers or slices, not tuple; perhaps you missed a comma?\n",
      "C:\\Users\\olanr\\AppData\\Local\\Temp\\ipykernel_1484\\3586660851.py:18: SyntaxWarning: list indices must be integers or slices, not tuple; perhaps you missed a comma?\n",
      "  [-math.sin(theta), math.cos(theta)*math.sin(phi), math.cos(theta)*math.cos(phi), 0, 0, 0]\n"
     ]
    },
    {
     "ename": "TypeError",
     "evalue": "list indices must be integers or slices, not tuple",
     "output_type": "error",
     "traceback": [
      "\u001b[1;31m---------------------------------------------------------------------------\u001b[0m",
      "\u001b[1;31mTypeError\u001b[0m                                 Traceback (most recent call last)",
      "\u001b[1;32mc:\\Users\\olanr\\Downloads\\LIS-Internship\\MPCLibraryTests\\do_mpc_bluerov.ipynb Cell 17\u001b[0m in \u001b[0;36m1\n\u001b[0;32m      <a href='vscode-notebook-cell:/c%3A/Users/olanr/Downloads/LIS-Internship/MPCLibraryTests/do_mpc_bluerov.ipynb#X46sZmlsZQ%3D%3D?line=2'>3</a>\u001b[0m J2 \u001b[39m=\u001b[39m [\n\u001b[0;32m      <a href='vscode-notebook-cell:/c%3A/Users/olanr/Downloads/LIS-Internship/MPCLibraryTests/do_mpc_bluerov.ipynb#X46sZmlsZQ%3D%3D?line=3'>4</a>\u001b[0m     [\u001b[39m1\u001b[39m, math\u001b[39m.\u001b[39msin(phi)\u001b[39m*\u001b[39mmath\u001b[39m.\u001b[39mtan(theta), math\u001b[39m.\u001b[39mcos(phi)\u001b[39m*\u001b[39mmath\u001b[39m.\u001b[39mtan(theta)],\n\u001b[0;32m      <a href='vscode-notebook-cell:/c%3A/Users/olanr/Downloads/LIS-Internship/MPCLibraryTests/do_mpc_bluerov.ipynb#X46sZmlsZQ%3D%3D?line=4'>5</a>\u001b[0m     [\u001b[39m0\u001b[39m, math\u001b[39m.\u001b[39mcos(phi), \u001b[39m-\u001b[39mmath\u001b[39m.\u001b[39msin(phi)],\n\u001b[0;32m      <a href='vscode-notebook-cell:/c%3A/Users/olanr/Downloads/LIS-Internship/MPCLibraryTests/do_mpc_bluerov.ipynb#X46sZmlsZQ%3D%3D?line=5'>6</a>\u001b[0m     [\u001b[39m0\u001b[39m, math\u001b[39m.\u001b[39msin(phi)\u001b[39m/\u001b[39mmath\u001b[39m.\u001b[39mcos(theta), math\u001b[39m.\u001b[39mcos(phi)\u001b[39m/\u001b[39mmath\u001b[39m.\u001b[39mcos(theta)]\n\u001b[0;32m      <a href='vscode-notebook-cell:/c%3A/Users/olanr/Downloads/LIS-Internship/MPCLibraryTests/do_mpc_bluerov.ipynb#X46sZmlsZQ%3D%3D?line=6'>7</a>\u001b[0m ]\n\u001b[0;32m      <a href='vscode-notebook-cell:/c%3A/Users/olanr/Downloads/LIS-Internship/MPCLibraryTests/do_mpc_bluerov.ipynb#X46sZmlsZQ%3D%3D?line=8'>9</a>\u001b[0m J1 \u001b[39m=\u001b[39m [\n\u001b[0;32m     <a href='vscode-notebook-cell:/c%3A/Users/olanr/Downloads/LIS-Internship/MPCLibraryTests/do_mpc_bluerov.ipynb#X46sZmlsZQ%3D%3D?line=9'>10</a>\u001b[0m     [math\u001b[39m.\u001b[39mcos(psi)\u001b[39m*\u001b[39mmath\u001b[39m.\u001b[39mcos(theta), \u001b[39m-\u001b[39mmath\u001b[39m.\u001b[39msin(psi)\u001b[39m*\u001b[39mmath\u001b[39m.\u001b[39mcos(phi) \u001b[39m+\u001b[39m math\u001b[39m.\u001b[39mcos(psi)\u001b[39m*\u001b[39mmath\u001b[39m.\u001b[39msin(theta)\u001b[39m*\u001b[39mmath\u001b[39m.\u001b[39msin(phi), math\u001b[39m.\u001b[39msin(psi)\u001b[39m*\u001b[39mmath\u001b[39m.\u001b[39msin(phi) \u001b[39m+\u001b[39m math\u001b[39m.\u001b[39mcos(psi)\u001b[39m*\u001b[39mmath\u001b[39m.\u001b[39mcos(phi)\u001b[39m*\u001b[39mmath\u001b[39m.\u001b[39msin(theta)],\n\u001b[0;32m     <a href='vscode-notebook-cell:/c%3A/Users/olanr/Downloads/LIS-Internship/MPCLibraryTests/do_mpc_bluerov.ipynb#X46sZmlsZQ%3D%3D?line=10'>11</a>\u001b[0m     [math\u001b[39m.\u001b[39msin(psi)\u001b[39m*\u001b[39mmath\u001b[39m.\u001b[39mcos(theta), math\u001b[39m.\u001b[39mcos(psi)\u001b[39m*\u001b[39mmath\u001b[39m.\u001b[39mcos(phi) \u001b[39m+\u001b[39m math\u001b[39m.\u001b[39msin(phi)\u001b[39m*\u001b[39mmath\u001b[39m.\u001b[39msin(theta)\u001b[39m*\u001b[39mmath\u001b[39m.\u001b[39msin(psi), \u001b[39m-\u001b[39mmath\u001b[39m.\u001b[39mcos(psi)\u001b[39m*\u001b[39mmath\u001b[39m.\u001b[39msin(phi) \u001b[39m+\u001b[39m math\u001b[39m.\u001b[39msin(theta)\u001b[39m*\u001b[39mmath\u001b[39m.\u001b[39msin(psi)\u001b[39m*\u001b[39mmath\u001b[39m.\u001b[39mcos(phi)],\n\u001b[0;32m     <a href='vscode-notebook-cell:/c%3A/Users/olanr/Downloads/LIS-Internship/MPCLibraryTests/do_mpc_bluerov.ipynb#X46sZmlsZQ%3D%3D?line=11'>12</a>\u001b[0m     [\u001b[39m-\u001b[39mmath\u001b[39m.\u001b[39msin(theta), math\u001b[39m.\u001b[39mcos(theta)\u001b[39m*\u001b[39mmath\u001b[39m.\u001b[39msin(phi), math\u001b[39m.\u001b[39mcos(theta)\u001b[39m*\u001b[39mmath\u001b[39m.\u001b[39mcos(phi)]\n\u001b[0;32m     <a href='vscode-notebook-cell:/c%3A/Users/olanr/Downloads/LIS-Internship/MPCLibraryTests/do_mpc_bluerov.ipynb#X46sZmlsZQ%3D%3D?line=12'>13</a>\u001b[0m ]\n\u001b[0;32m     <a href='vscode-notebook-cell:/c%3A/Users/olanr/Downloads/LIS-Internship/MPCLibraryTests/do_mpc_bluerov.ipynb#X46sZmlsZQ%3D%3D?line=14'>15</a>\u001b[0m J \u001b[39m=\u001b[39m np\u001b[39m.\u001b[39marray([\n\u001b[0;32m     <a href='vscode-notebook-cell:/c%3A/Users/olanr/Downloads/LIS-Internship/MPCLibraryTests/do_mpc_bluerov.ipynb#X46sZmlsZQ%3D%3D?line=15'>16</a>\u001b[0m     [math\u001b[39m.\u001b[39mcos(psi)\u001b[39m*\u001b[39mmath\u001b[39m.\u001b[39mcos(theta), \u001b[39m-\u001b[39mmath\u001b[39m.\u001b[39msin(psi)\u001b[39m*\u001b[39mmath\u001b[39m.\u001b[39mcos(phi) \u001b[39m+\u001b[39m math\u001b[39m.\u001b[39mcos(psi)\u001b[39m*\u001b[39mmath\u001b[39m.\u001b[39msin(theta)\u001b[39m*\u001b[39mmath\u001b[39m.\u001b[39msin(phi), math\u001b[39m.\u001b[39msin(psi)\u001b[39m*\u001b[39mmath\u001b[39m.\u001b[39msin(phi) \u001b[39m+\u001b[39m math\u001b[39m.\u001b[39mcos(psi)\u001b[39m*\u001b[39mmath\u001b[39m.\u001b[39mcos(phi)\u001b[39m*\u001b[39mmath\u001b[39m.\u001b[39msin(theta), \u001b[39m0\u001b[39m, \u001b[39m0\u001b[39m, \u001b[39m0\u001b[39m],\n\u001b[0;32m     <a href='vscode-notebook-cell:/c%3A/Users/olanr/Downloads/LIS-Internship/MPCLibraryTests/do_mpc_bluerov.ipynb#X46sZmlsZQ%3D%3D?line=16'>17</a>\u001b[0m     [math\u001b[39m.\u001b[39msin(psi)\u001b[39m*\u001b[39mmath\u001b[39m.\u001b[39mcos(theta), math\u001b[39m.\u001b[39mcos(psi)\u001b[39m*\u001b[39mmath\u001b[39m.\u001b[39mcos(phi) \u001b[39m+\u001b[39m math\u001b[39m.\u001b[39msin(phi)\u001b[39m*\u001b[39mmath\u001b[39m.\u001b[39msin(theta)\u001b[39m*\u001b[39mmath\u001b[39m.\u001b[39msin(psi), \u001b[39m-\u001b[39mmath\u001b[39m.\u001b[39mcos(psi)\u001b[39m*\u001b[39mmath\u001b[39m.\u001b[39msin(phi) \u001b[39m+\u001b[39m math\u001b[39m.\u001b[39msin(theta)\u001b[39m*\u001b[39mmath\u001b[39m.\u001b[39msin(psi)\u001b[39m*\u001b[39mmath\u001b[39m.\u001b[39mcos(phi), \u001b[39m0\u001b[39m, \u001b[39m0\u001b[39m, \u001b[39m0\u001b[39m],\n\u001b[1;32m---> <a href='vscode-notebook-cell:/c%3A/Users/olanr/Downloads/LIS-Internship/MPCLibraryTests/do_mpc_bluerov.ipynb#X46sZmlsZQ%3D%3D?line=17'>18</a>\u001b[0m     [\u001b[39m-\u001b[39;49mmath\u001b[39m.\u001b[39;49msin(theta), math\u001b[39m.\u001b[39;49mcos(theta)\u001b[39m*\u001b[39;49mmath\u001b[39m.\u001b[39;49msin(phi), math\u001b[39m.\u001b[39;49mcos(theta)\u001b[39m*\u001b[39;49mmath\u001b[39m.\u001b[39;49mcos(phi), \u001b[39m0\u001b[39;49m, \u001b[39m0\u001b[39;49m, \u001b[39m0\u001b[39;49m]\n\u001b[0;32m     <a href='vscode-notebook-cell:/c%3A/Users/olanr/Downloads/LIS-Internship/MPCLibraryTests/do_mpc_bluerov.ipynb#X46sZmlsZQ%3D%3D?line=18'>19</a>\u001b[0m     [\u001b[39m0\u001b[39;49m, \u001b[39m0\u001b[39;49m, \u001b[39m0\u001b[39;49m, \u001b[39m1\u001b[39;49m, math\u001b[39m.\u001b[39;49msin(phi)\u001b[39m*\u001b[39;49mmath\u001b[39m.\u001b[39;49mtan(theta), math\u001b[39m.\u001b[39;49mcos(phi)\u001b[39m*\u001b[39;49mmath\u001b[39m.\u001b[39;49mtan(theta)],\n\u001b[0;32m     <a href='vscode-notebook-cell:/c%3A/Users/olanr/Downloads/LIS-Internship/MPCLibraryTests/do_mpc_bluerov.ipynb#X46sZmlsZQ%3D%3D?line=19'>20</a>\u001b[0m     [\u001b[39m0\u001b[39m, \u001b[39m0\u001b[39m, \u001b[39m0\u001b[39m, \u001b[39m0\u001b[39m, math\u001b[39m.\u001b[39mcos(phi), \u001b[39m-\u001b[39mmath\u001b[39m.\u001b[39msin(phi)],\n\u001b[0;32m     <a href='vscode-notebook-cell:/c%3A/Users/olanr/Downloads/LIS-Internship/MPCLibraryTests/do_mpc_bluerov.ipynb#X46sZmlsZQ%3D%3D?line=20'>21</a>\u001b[0m     [\u001b[39m0\u001b[39m, \u001b[39m0\u001b[39m, \u001b[39m0\u001b[39m, \u001b[39m0\u001b[39m, math\u001b[39m.\u001b[39msin(phi)\u001b[39m/\u001b[39mmath\u001b[39m.\u001b[39mcos(theta), math\u001b[39m.\u001b[39mcos(phi)\u001b[39m/\u001b[39mmath\u001b[39m.\u001b[39mcos(theta)]\n\u001b[0;32m     <a href='vscode-notebook-cell:/c%3A/Users/olanr/Downloads/LIS-Internship/MPCLibraryTests/do_mpc_bluerov.ipynb#X46sZmlsZQ%3D%3D?line=21'>22</a>\u001b[0m \n\u001b[0;32m     <a href='vscode-notebook-cell:/c%3A/Users/olanr/Downloads/LIS-Internship/MPCLibraryTests/do_mpc_bluerov.ipynb#X46sZmlsZQ%3D%3D?line=22'>23</a>\u001b[0m ])\n",
      "\u001b[1;31mTypeError\u001b[0m: list indices must be integers or slices, not tuple"
     ]
    }
   ],
   "source": [
    "#kinematic equation\n",
    "\n",
    "J2 = [\n",
    "    [1, math.sin(phi)*math.tan(theta), math.cos(phi)*math.tan(theta)],\n",
    "    [0, math.cos(phi), -math.sin(phi)],\n",
    "    [0, math.sin(phi)/math.cos(theta), math.cos(phi)/math.cos(theta)]\n",
    "]\n",
    "\n",
    "J1 = [\n",
    "    [math.cos(psi)*math.cos(theta), -math.sin(psi)*math.cos(phi) + math.cos(psi)*math.sin(theta)*math.sin(phi), math.sin(psi)*math.sin(phi) + math.cos(psi)*math.cos(phi)*math.sin(theta)],\n",
    "    [math.sin(psi)*math.cos(theta), math.cos(psi)*math.cos(phi) + math.sin(phi)*math.sin(theta)*math.sin(psi), -math.cos(psi)*math.sin(phi) + math.sin(theta)*math.sin(psi)*math.cos(phi)],\n",
    "    [-math.sin(theta), math.cos(theta)*math.sin(phi), math.cos(theta)*math.cos(phi)]\n",
    "]\n",
    "\n",
    "J = np.array([\n",
    "    [math.cos(psi)*math.cos(theta), -math.sin(psi)*math.cos(phi) + math.cos(psi)*math.sin(theta)*math.sin(phi), math.sin(psi)*math.sin(phi) + math.cos(psi)*math.cos(phi)*math.sin(theta), 0, 0, 0],\n",
    "    [math.sin(psi)*math.cos(theta), math.cos(psi)*math.cos(phi) + math.sin(phi)*math.sin(theta)*math.sin(psi), -math.cos(psi)*math.sin(phi) + math.sin(theta)*math.sin(psi)*math.cos(phi), 0, 0, 0],\n",
    "    [-math.sin(theta), math.cos(theta)*math.sin(phi), math.cos(theta)*math.cos(phi), 0, 0, 0]\n",
    "    [0, 0, 0, 1, math.sin(phi)*math.tan(theta), math.cos(phi)*math.tan(theta)],\n",
    "    [0, 0, 0, 0, math.cos(phi), -math.sin(phi)],\n",
    "    [0, 0, 0, 0, math.sin(phi)/math.cos(theta), math.cos(phi)/math.cos(theta)]\n",
    "\n",
    "])"
   ]
  },
  {
   "cell_type": "code",
   "execution_count": null,
   "metadata": {},
   "outputs": [],
   "source": [
    "eta_dot = J @ v\n",
    "v_dot =  -np.linalg.inv(M) @ (C @ v + D @ v + G )"
   ]
  },
  {
   "attachments": {},
   "cell_type": "markdown",
   "metadata": {},
   "source": [
    "Right Hand Side"
   ]
  },
  {
   "cell_type": "code",
   "execution_count": null,
   "metadata": {},
   "outputs": [],
   "source": [
    "model.set_rhs('eta', eta_dot)\n",
    "model.set_rhs('v', v_dot)\n",
    "####"
   ]
  }
 ],
 "metadata": {
  "kernelspec": {
   "display_name": "do_mpc",
   "language": "python",
   "name": "python3"
  },
  "language_info": {
   "codemirror_mode": {
    "name": "ipython",
    "version": 3
   },
   "file_extension": ".py",
   "mimetype": "text/x-python",
   "name": "python",
   "nbconvert_exporter": "python",
   "pygments_lexer": "ipython3",
   "version": "3.11.3"
  },
  "orig_nbformat": 4
 },
 "nbformat": 4,
 "nbformat_minor": 2
}

{
 "cells": [
  {
   "cell_type": "code",
   "execution_count": null,
   "metadata": {},
   "outputs": [],
   "source": [
    "import numpy as np\n",
    "import sys\n",
    "from casadi import *\n",
    "\n",
    "# Import do_mpc package:\n",
    "import do_mpc\n",
    "import math "
   ]
  },
  {
   "cell_type": "code",
   "execution_count": null,
   "metadata": {},
   "outputs": [],
   "source": [
    "model_type = 'continuous' # either 'discrete' or 'continuous'\n",
    "model = do_mpc.model.Model(model_type)"
   ]
  },
  {
   "cell_type": "code",
   "execution_count": null,
   "metadata": {},
   "outputs": [],
   "source": [
    "#state variables\n",
    "eta = model.set_variable(var_type='_x', var_name='eta', shape=(6,1))\n",
    "v = model.set_variable(var_type='_x', var_name='v', shape=(6,1))\n",
    "\n",
    "#Velocity vector\n",
    "# eta_dot = model.set_variable(var_type='_z', var_name='eta_dot', shape=(6,1))\n",
    "# v_dot = model.set_variable(var_type='_z', var_name='v_dot', shape=(6,1))\n",
    "\n",
    "# Input\n",
    "thrust = model.set_variable(var_type='_u', var_name='thrust', shape=(6,1))"
   ]
  },
  {
   "cell_type": "code",
   "execution_count": null,
   "metadata": {},
   "outputs": [],
   "source": [
    "thrust"
   ]
  },
  {
   "attachments": {},
   "cell_type": "markdown",
   "metadata": {},
   "source": [
    "Paarameters"
   ]
  },
  {
   "cell_type": "code",
   "execution_count": null,
   "metadata": {},
   "outputs": [],
   "source": [
    "x_g = 0\n",
    "y_g = 0\n",
    "z_g = 0\n",
    "x_b = 0\n",
    "y_b = 0\n",
    "z_b = -0.01\n",
    "\n",
    "#added mass coefficients\n",
    "X_ud = 6.356673886738176\n",
    "Y_vd = 7.120600295756984\n",
    "Z_wd = 18.686326861534997\n",
    "K_pd = 0.185765630747592\n",
    "M_qd = 0.134823349429660\n",
    "N_rd = 0.221510466644690\n",
    "#drag \n",
    "Xu = {\"Linear\": 13.7, \"NonLinear\": 141}\n",
    "Yv = {\"Linear\": 0, \"NonLinear\": 217}\n",
    "Zw = {\"Linear\": 33, \"NonLinear\": 190}\n",
    "Kp = {\"Linear\": 0, \"NonLinear\": 1.192}\n",
    "Mq = {\"Linear\": 0.8, \"NonLinear\": 0.470}\n",
    "Nr = {\"Linear\": 0, \"NonLinear\": 1.5}\n"
   ]
  },
  {
   "cell_type": "code",
   "execution_count": null,
   "metadata": {},
   "outputs": [],
   "source": [
    "m = 13.5 # Mass of the Robot\n",
    "\n",
    "I_x, I_y, I_z = 0.26, 0.23, 0.37 # Mass Moments of Inertia\n",
    "\n",
    "L_h, L_w, L_l = 0.378, 0.575, 0.457 \n",
    "\n",
    "A_F, A_S, A_T = 0.0877, 0.1131, 0.2049\n",
    "\n",
    "Volume = 0.0135\n",
    "\n",
    "Ic = np.array([[0.26, 0, 0],\n",
    "      [0, 0.23, 0],\n",
    "      [0, 0, 0.37]])\n",
    "\n",
    "Ap_F, Ap_S, Ap_T = 0.1727, 0.2174, 0.2628"
   ]
  },
  {
   "attachments": {},
   "cell_type": "markdown",
   "metadata": {},
   "source": [
    "Mass matrix"
   ]
  },
  {
   "cell_type": "code",
   "execution_count": null,
   "metadata": {},
   "outputs": [],
   "source": [
    "#Rigid-body mass\n",
    "M_RB = np.array([\n",
    "    [m, 0, 0, 0, 0, 0],\n",
    "    [0, m, 0, 0, 0, 0],\n",
    "    [0, 0, m, 0, 0, 0],\n",
    "    [0, 0, 0, I_x, 0, 0 ],\n",
    "    [0, 0, 0, 0, I_y, 0 ],\n",
    "    [0, 0, 0, 0, 0, I_z ]\n",
    "    ])\n",
    "#added mass\n",
    "M_A = -1 * np.array([[X_ud, 0, 0, 0, 0, 0],\n",
    "              [0, Y_vd, 0, 0, 0, 0],\n",
    "              [0, 0, Z_wd, 0, 0, 0],\n",
    "              [0, 0, 0, K_pd, 0, 0 ],\n",
    "              [0, 0, 0, 0, M_qd, 0 ],\n",
    "              [0, 0, 0, 0, 0, N_rd ]])\n",
    "M = M_RB + M_A"
   ]
  },
  {
   "attachments": {},
   "cell_type": "markdown",
   "metadata": {},
   "source": [
    "Coriolis"
   ]
  },
  {
   "cell_type": "code",
   "execution_count": null,
   "metadata": {},
   "outputs": [],
   "source": [
    "#the rigid body Coriolis\n",
    "# v = [u v w p q r]\n",
    "C_RB = np.array([\n",
    "    [0, 0, 0, 0, m*v[2], -m*v[1] ],\n",
    "    [0, 0, 0, -m*v[2], 0, m*v[0] ],\n",
    "    [0, 0, 0, m*v[1], -m*v[0], 0 ],\n",
    "    [0, m*v[2], -m*v[1], 0, -I_z*v[5], -I_y*v[4] ],\n",
    "    [-m*v[2], 0, m*v[0], I_z*v[5], 0, I_x*v[3] ],\n",
    "    [m*v[1], -m*v[0], 0, I_y*v[4], -I_x*v[3], 0 ],\n",
    "     ])\n",
    "\n",
    "# added mass Coriolis\n",
    "C_A = np.array([\n",
    "    [0, 0, 0, 0, -Z_wd*v[2], Y_vd*v[1]],\n",
    "    [0, 0, 0, Z_wd*v[2], 0,-X_ud*v[0]], \n",
    "    [0, 0, 0, -Y_vd*v[1], X_ud*v[0], 0],\n",
    "    [0, -Z_wd*v[2], Y_vd*v[1], 0, -N_rd*v[5], M_qd*v[4]],\n",
    "    [Z_wd*v[2], 0, -X_ud*v[0], N_rd*v[5], 0, -K_pd*v[3]],\n",
    "    [-Y_vd*v[1], X_ud*v[0], 0, -M_qd*v[4], K_pd*v[3], 0],\n",
    "    ])\n",
    "\n",
    "C = C_RB + C_A"
   ]
  },
  {
   "attachments": {},
   "cell_type": "markdown",
   "metadata": {},
   "source": [
    "Drag"
   ]
  },
  {
   "cell_type": "code",
   "execution_count": null,
   "metadata": {},
   "outputs": [],
   "source": [
    "D_lin = np.array([\n",
    "    [Xu[\"Linear\"], 0, 0, 0, 0, 0],\n",
    "    [0, Yv[\"Linear\"], 0, 0, 0, 0],\n",
    "    [0, 0, Zw[\"Linear\"], 0, 0, 0],\n",
    "    [0, 0, 0, Kp[\"Linear\"], 0, 0],\n",
    "    [0, 0, 0, 0, Mq[\"Linear\"], 0],\n",
    "    [0, 0, 0, 0, 0, Nr[\"Linear\"]]\n",
    "])\n",
    "    \n",
    "D_nonlin = np.array([\n",
    "    [Xu[\"NonLinear\"] * v[0], 0, 0, 0, 0, 0 ],\n",
    "    [0, Yv[\"NonLinear\"] * v[1], 0, 0, 0, 0 ],\n",
    "    [0, 0, Zw[\"NonLinear\"] * v[2], 0, 0, 0 ],\n",
    "    [0, 0, 0, Kp[\"NonLinear\"] * v[3], 0, 0 ],\n",
    "    [0, 0, 0, 0, Mq[\"NonLinear\"] * v[4], 0 ],\n",
    "    [0, 0, 0, 0, 0, Nr[\"NonLinear\"] * v[5] ],        \n",
    "])\n",
    "\n",
    "D = D_lin + D_nonlin"
   ]
  },
  {
   "attachments": {},
   "cell_type": "markdown",
   "metadata": {},
   "source": [
    "G and B"
   ]
  },
  {
   "cell_type": "code",
   "execution_count": null,
   "metadata": {},
   "outputs": [],
   "source": [
    "W = m * 9.81\n",
    "B = 1000 * Volume * 9.81\n",
    "\n",
    "# eta = [x y z phi theta epsi]\n",
    "phi = eta[3]\n",
    "theta = eta[4]\n",
    "psi = eta[5]"
   ]
  },
  {
   "cell_type": "code",
   "execution_count": null,
   "metadata": {},
   "outputs": [],
   "source": [
    "G = vertcat(\n",
    "    (W - B) * sin(theta),\n",
    "    -(W - B) * cos(theta) * sin(phi),\n",
    "    -(W - B) * cos(theta) * cos(phi),\n",
    "    -(y_g*W - y_b*B)*cos(theta)*cos(phi) + (z_g*W - z_b*B)*cos(theta)*sin(phi),\n",
    "    (z_g*W - z_b*B)*sin(theta) + (x_g*W - x_b*B)*cos(theta)*cos(phi),\n",
    "    -(x_g*W - x_b*B)*cos(theta)*sin(phi) - (y_g*W - y_b*B)*sin(theta)\n",
    "    )"
   ]
  },
  {
   "attachments": {},
   "cell_type": "markdown",
   "metadata": {},
   "source": [
    "J"
   ]
  },
  {
   "cell_type": "code",
   "execution_count": null,
   "metadata": {},
   "outputs": [],
   "source": [
    "#kinematic equation\n",
    "\n",
    "J2 = [\n",
    "    [1, sin(phi)*tan(theta), cos(phi)*tan(theta)],\n",
    "    [0, cos(phi), -sin(phi)],\n",
    "    [0, sin(phi)/cos(theta), cos(phi)/cos(theta)]\n",
    "]\n",
    "\n",
    "J1 = [\n",
    "    [cos(psi)*cos(theta), -sin(psi)*cos(phi) + cos(psi)*sin(theta)*sin(phi), sin(psi)*sin(phi) + cos(psi)*cos(phi)*sin(theta)],\n",
    "    [sin(psi)*cos(theta), cos(psi)*cos(phi) + sin(phi)*sin(theta)*sin(psi), -cos(psi)*sin(phi) + sin(theta)*sin(psi)*cos(phi)],\n",
    "    [-sin(theta), cos(theta)*sin(phi), cos(theta)*cos(phi)]\n",
    "]\n",
    "\n",
    "J = np.array([\n",
    "    [cos(psi)*cos(theta), -sin(psi)*cos(phi) + cos(psi)*sin(theta)*sin(phi), sin(psi)*sin(phi) + cos(psi)*cos(phi)*sin(theta), 0, 0, 0],\n",
    "    [sin(psi)*cos(theta), cos(psi)*cos(phi) + sin(phi)*sin(theta)*sin(psi), -cos(psi)*sin(phi) + sin(theta)*sin(psi)*cos(phi), 0, 0, 0],\n",
    "    [-sin(theta), cos(theta)*sin(phi), cos(theta)*cos(phi), 0, 0, 0],\n",
    "    [0, 0, 0, 1, sin(phi)*tan(theta), cos(phi)*tan(theta)],\n",
    "    [0, 0, 0, 0, cos(phi), -sin(phi)],\n",
    "    [0, 0, 0, 0, sin(phi)/cos(theta), cos(phi)/cos(theta)]\n",
    "\n",
    "])"
   ]
  },
  {
   "cell_type": "code",
   "execution_count": null,
   "metadata": {},
   "outputs": [],
   "source": [
    "eta_dot = J @ v\n",
    "v_dot =  inv( M ) @ (thrust - C @ v - D @ v - G )"
   ]
  },
  {
   "attachments": {},
   "cell_type": "markdown",
   "metadata": {},
   "source": [
    "Right Hand Side"
   ]
  },
  {
   "cell_type": "code",
   "execution_count": null,
   "metadata": {},
   "outputs": [],
   "source": [
    "model.set_rhs('eta', eta_dot)\n",
    "model.set_rhs('v', v_dot)"
   ]
  },
  {
   "cell_type": "code",
   "execution_count": null,
   "metadata": {},
   "outputs": [],
   "source": [
    "model.setup()"
   ]
  },
  {
   "attachments": {},
   "cell_type": "markdown",
   "metadata": {},
   "source": [
    "Controller"
   ]
  },
  {
   "cell_type": "code",
   "execution_count": null,
   "metadata": {},
   "outputs": [],
   "source": [
    "mpc = do_mpc.controller.MPC()"
   ]
  },
  {
   "cell_type": "code",
   "execution_count": null,
   "metadata": {},
   "outputs": [],
   "source": [
    "mpc.set_rterm(\n",
    "    thrust=[1e-2, 1e2]\n",
    ")"
   ]
  }
 ],
 "metadata": {
  "kernelspec": {
   "display_name": "do_mpc",
   "language": "python",
   "name": "python3"
  },
  "language_info": {
   "codemirror_mode": {
    "name": "ipython",
    "version": 3
   },
   "file_extension": ".py",
   "mimetype": "text/x-python",
   "name": "python",
   "nbconvert_exporter": "python",
   "pygments_lexer": "ipython3",
   "version": "3.11.3"
  },
  "orig_nbformat": 4
 },
 "nbformat": 4,
 "nbformat_minor": 2
}

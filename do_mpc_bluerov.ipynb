{
 "cells": [
  {
   "cell_type": "code",
   "execution_count": 20,
   "metadata": {},
   "outputs": [],
   "source": [
    "import numpy as np\n",
    "import sys\n",
    "from casadi import *\n",
    "\n",
    "# Import do_mpc package:\n",
    "import do_mpc\n",
    "import math "
   ]
  },
  {
   "cell_type": "code",
   "execution_count": 21,
   "metadata": {},
   "outputs": [],
   "source": [
    "model_type = 'continuous' # either 'discrete' or 'continuous'\n",
    "model = do_mpc.model.Model(model_type)"
   ]
  },
  {
   "cell_type": "code",
   "execution_count": 22,
   "metadata": {},
   "outputs": [],
   "source": [
    "#state variables\n",
    "eta = model.set_variable(var_type='_x', var_name='eta', shape=(6,1))\n",
    "v = model.set_variable(var_type='_x', var_name='v', shape=(6,1))\n",
    "\n",
    "#Velocity vector\n",
    "# eta_dot = model.set_variable(var_type='_z', var_name='eta_dot', shape=(6,1))\n",
    "# v_dot = model.set_variable(var_type='_z', var_name='v_dot', shape=(6,1))\n",
    "\n",
    "# Input\n",
    "thrust = model.set_variable(var_type='_u', var_name='thrust', shape=(6,1))"
   ]
  },
  {
   "cell_type": "code",
   "execution_count": 23,
   "metadata": {},
   "outputs": [
    {
     "data": {
      "text/plain": [
       "SX([thrust_0, thrust_1, thrust_2, thrust_3, thrust_4, thrust_5])"
      ]
     },
     "execution_count": 23,
     "metadata": {},
     "output_type": "execute_result"
    }
   ],
   "source": [
    "thrust"
   ]
  },
  {
   "attachments": {},
   "cell_type": "markdown",
   "metadata": {},
   "source": [
    "Paarameters"
   ]
  },
  {
   "cell_type": "code",
   "execution_count": 24,
   "metadata": {},
   "outputs": [],
   "source": [
    "x_g = 0\n",
    "y_g = 0\n",
    "z_g = 0\n",
    "x_b = 0\n",
    "y_b = 0\n",
    "z_b = -0.01\n",
    "\n",
    "#added mass coefficients\n",
    "X_ud = 6.356673886738176\n",
    "Y_vd = 7.120600295756984\n",
    "Z_wd = 18.686326861534997\n",
    "K_pd = 0.185765630747592\n",
    "M_qd = 0.134823349429660\n",
    "N_rd = 0.221510466644690\n",
    "#drag \n",
    "Xu = {\"Linear\": 13.7, \"NonLinear\": 141}\n",
    "Yv = {\"Linear\": 0, \"NonLinear\": 217}\n",
    "Zw = {\"Linear\": 33, \"NonLinear\": 190}\n",
    "Kp = {\"Linear\": 0, \"NonLinear\": 1.192}\n",
    "Mq = {\"Linear\": 0.8, \"NonLinear\": 0.470}\n",
    "Nr = {\"Linear\": 0, \"NonLinear\": 1.5}\n"
   ]
  },
  {
   "cell_type": "code",
   "execution_count": 25,
   "metadata": {},
   "outputs": [],
   "source": [
    "m = 13.5 # Mass of the Robot\n",
    "\n",
    "I_x, I_y, I_z = 0.26, 0.23, 0.37 # Mass Moments of Inertia\n",
    "\n",
    "L_h, L_w, L_l = 0.378, 0.575, 0.457 \n",
    "\n",
    "A_F, A_S, A_T = 0.0877, 0.1131, 0.2049\n",
    "\n",
    "Volume = 0.0135\n",
    "\n",
    "Ic = np.array([[0.26, 0, 0],\n",
    "      [0, 0.23, 0],\n",
    "      [0, 0, 0.37]])\n",
    "\n",
    "Ap_F, Ap_S, Ap_T = 0.1727, 0.2174, 0.2628"
   ]
  },
  {
   "attachments": {},
   "cell_type": "markdown",
   "metadata": {},
   "source": [
    "Mass matrix"
   ]
  },
  {
   "cell_type": "code",
   "execution_count": 26,
   "metadata": {},
   "outputs": [],
   "source": [
    "#Rigid-body mass\n",
    "M_RB = np.array([\n",
    "    [m, 0, 0, 0, 0, 0],\n",
    "    [0, m, 0, 0, 0, 0],\n",
    "    [0, 0, m, 0, 0, 0],\n",
    "    [0, 0, 0, I_x, 0, 0 ],\n",
    "    [0, 0, 0, 0, I_y, 0 ],\n",
    "    [0, 0, 0, 0, 0, I_z ]\n",
    "    ])\n",
    "#added mass\n",
    "M_A = -1 * np.array([[X_ud, 0, 0, 0, 0, 0],\n",
    "              [0, Y_vd, 0, 0, 0, 0],\n",
    "              [0, 0, Z_wd, 0, 0, 0],\n",
    "              [0, 0, 0, K_pd, 0, 0 ],\n",
    "              [0, 0, 0, 0, M_qd, 0 ],\n",
    "              [0, 0, 0, 0, 0, N_rd ]])\n",
    "M = M_RB + M_A"
   ]
  },
  {
   "attachments": {},
   "cell_type": "markdown",
   "metadata": {},
   "source": [
    "Coriolis"
   ]
  },
  {
   "cell_type": "code",
   "execution_count": 27,
   "metadata": {},
   "outputs": [],
   "source": [
    "#the rigid body Coriolis\n",
    "# v = [u v w p q r]\n",
    "C_RB = np.array([\n",
    "    [0, 0, 0, 0, m*v[2], -m*v[1] ],\n",
    "    [0, 0, 0, -m*v[2], 0, m*v[0] ],\n",
    "    [0, 0, 0, m*v[1], -m*v[0], 0 ],\n",
    "    [0, m*v[2], -m*v[1], 0, -I_z*v[5], -I_y*v[4] ],\n",
    "    [-m*v[2], 0, m*v[0], I_z*v[5], 0, I_x*v[3] ],\n",
    "    [m*v[1], -m*v[0], 0, I_y*v[4], -I_x*v[3], 0 ],\n",
    "     ])\n",
    "\n",
    "# added mass Coriolis\n",
    "C_A = np.array([\n",
    "    [0, 0, 0, 0, -Z_wd*v[2], Y_vd*v[1]],\n",
    "    [0, 0, 0, Z_wd*v[2], 0,-X_ud*v[0]], \n",
    "    [0, 0, 0, -Y_vd*v[1], X_ud*v[0], 0],\n",
    "    [0, -Z_wd*v[2], Y_vd*v[1], 0, -N_rd*v[5], M_qd*v[4]],\n",
    "    [Z_wd*v[2], 0, -X_ud*v[0], N_rd*v[5], 0, -K_pd*v[3]],\n",
    "    [-Y_vd*v[1], X_ud*v[0], 0, -M_qd*v[4], K_pd*v[3], 0],\n",
    "    ])\n",
    "\n",
    "C = C_RB + C_A"
   ]
  },
  {
   "attachments": {},
   "cell_type": "markdown",
   "metadata": {},
   "source": [
    "Drag"
   ]
  },
  {
   "cell_type": "code",
   "execution_count": 28,
   "metadata": {},
   "outputs": [],
   "source": [
    "D_lin = np.array([\n",
    "    [Xu[\"Linear\"], 0, 0, 0, 0, 0],\n",
    "    [0, Yv[\"Linear\"], 0, 0, 0, 0],\n",
    "    [0, 0, Zw[\"Linear\"], 0, 0, 0],\n",
    "    [0, 0, 0, Kp[\"Linear\"], 0, 0],\n",
    "    [0, 0, 0, 0, Mq[\"Linear\"], 0],\n",
    "    [0, 0, 0, 0, 0, Nr[\"Linear\"]]\n",
    "])\n",
    "    \n",
    "D_nonlin = np.array([\n",
    "    [Xu[\"NonLinear\"] * v[0], 0, 0, 0, 0, 0 ],\n",
    "    [0, Yv[\"NonLinear\"] * v[1], 0, 0, 0, 0 ],\n",
    "    [0, 0, Zw[\"NonLinear\"] * v[2], 0, 0, 0 ],\n",
    "    [0, 0, 0, Kp[\"NonLinear\"] * v[3], 0, 0 ],\n",
    "    [0, 0, 0, 0, Mq[\"NonLinear\"] * v[4], 0 ],\n",
    "    [0, 0, 0, 0, 0, Nr[\"NonLinear\"] * v[5] ],        \n",
    "])\n",
    "\n",
    "D = D_lin + D_nonlin"
   ]
  },
  {
   "attachments": {},
   "cell_type": "markdown",
   "metadata": {},
   "source": [
    "G and B"
   ]
  },
  {
   "cell_type": "code",
   "execution_count": 29,
   "metadata": {},
   "outputs": [],
   "source": [
    "W = m * 9.81\n",
    "B = 1000 * Volume * 9.81\n",
    "\n",
    "# eta = [x y z phi theta epsi]\n",
    "phi = eta[3]\n",
    "theta = eta[4]\n",
    "psi = eta[5]"
   ]
  },
  {
   "cell_type": "code",
   "execution_count": 30,
   "metadata": {},
   "outputs": [],
   "source": [
    "G = vertcat(\n",
    "    (W - B) * sin(theta),\n",
    "    -(W - B) * cos(theta) * sin(phi),\n",
    "    -(W - B) * cos(theta) * cos(phi),\n",
    "    -(y_g*W - y_b*B)*cos(theta)*cos(phi) + (z_g*W - z_b*B)*cos(theta)*sin(phi),\n",
    "    (z_g*W - z_b*B)*sin(theta) + (x_g*W - x_b*B)*cos(theta)*cos(phi),\n",
    "    -(x_g*W - x_b*B)*cos(theta)*sin(phi) - (y_g*W - y_b*B)*sin(theta)\n",
    "    )"
   ]
  },
  {
   "attachments": {},
   "cell_type": "markdown",
   "metadata": {},
   "source": [
    "J"
   ]
  },
  {
   "cell_type": "code",
   "execution_count": 31,
   "metadata": {},
   "outputs": [],
   "source": [
    "#kinematic equation\n",
    "\n",
    "J2 = [\n",
    "    [1, sin(phi)*tan(theta), cos(phi)*tan(theta)],\n",
    "    [0, cos(phi), -sin(phi)],\n",
    "    [0, sin(phi)/cos(theta), cos(phi)/cos(theta)]\n",
    "]\n",
    "\n",
    "J1 = [\n",
    "    [cos(psi)*cos(theta), -sin(psi)*cos(phi) + cos(psi)*sin(theta)*sin(phi), sin(psi)*sin(phi) + cos(psi)*cos(phi)*sin(theta)],\n",
    "    [sin(psi)*cos(theta), cos(psi)*cos(phi) + sin(phi)*sin(theta)*sin(psi), -cos(psi)*sin(phi) + sin(theta)*sin(psi)*cos(phi)],\n",
    "    [-sin(theta), cos(theta)*sin(phi), cos(theta)*cos(phi)]\n",
    "]\n",
    "\n",
    "J = np.array([\n",
    "    [cos(psi)*cos(theta), -sin(psi)*cos(phi) + cos(psi)*sin(theta)*sin(phi), sin(psi)*sin(phi) + cos(psi)*cos(phi)*sin(theta), 0, 0, 0],\n",
    "    [sin(psi)*cos(theta), cos(psi)*cos(phi) + sin(phi)*sin(theta)*sin(psi), -cos(psi)*sin(phi) + sin(theta)*sin(psi)*cos(phi), 0, 0, 0],\n",
    "    [-sin(theta), cos(theta)*sin(phi), cos(theta)*cos(phi), 0, 0, 0],\n",
    "    [0, 0, 0, 1, sin(phi)*tan(theta), cos(phi)*tan(theta)],\n",
    "    [0, 0, 0, 0, cos(phi), -sin(phi)],\n",
    "    [0, 0, 0, 0, sin(phi)/cos(theta), cos(phi)/cos(theta)]\n",
    "\n",
    "])"
   ]
  },
  {
   "cell_type": "code",
   "execution_count": 32,
   "metadata": {},
   "outputs": [],
   "source": [
    "eta_dot = J @ v\n",
    "v_dot =  inv( M ) @ (thrust - C @ v - D @ v - G )"
   ]
  },
  {
   "attachments": {},
   "cell_type": "markdown",
   "metadata": {},
   "source": [
    "Right Hand Side"
   ]
  },
  {
   "cell_type": "code",
   "execution_count": 33,
   "metadata": {},
   "outputs": [],
   "source": [
    "model.set_rhs('eta', eta_dot)\n",
    "model.set_rhs('v', v_dot)"
   ]
  },
  {
   "cell_type": "code",
   "execution_count": 34,
   "metadata": {},
   "outputs": [],
   "source": [
    "model.setup()"
   ]
  },
  {
   "attachments": {},
   "cell_type": "markdown",
   "metadata": {},
   "source": [
    "Controller"
   ]
  },
  {
   "cell_type": "code",
   "execution_count": 35,
   "metadata": {},
   "outputs": [],
   "source": [
    "mpc = do_mpc.controller.MPC(model)"
   ]
  },
  {
   "attachments": {},
   "cell_type": "markdown",
   "metadata": {},
   "source": [
    "Testing using custom solver"
   ]
  },
  {
   "cell_type": "code",
   "execution_count": 36,
   "metadata": {},
   "outputs": [
    {
     "name": "stdout",
     "output_type": "stream",
     "text": [
      "./saved/mpc_v1.so\n"
     ]
    },
    {
     "ename": "RuntimeError",
     "evalue": ".../casadi/core/function_internal.cpp:145: Error calling IpoptInterface::init for 'solver':\nError in Function::factory for 'nlp' [External] at .../casadi/core/function.cpp:1758:\nFailed to create nlp_hess_l:[x, p, lam:f, lam:g]->[triu:hess:gamma:x:x] with {\"gamma\": [f, g]}:\n.../casadi/core/external.cpp:466: Assertion \"s_io[i] == ret.name_out(i)\" failed:\nInconsistent output name. Expected: [triu_hess_gamma_x_x], got hess_gamma_x_x for output 0",
     "output_type": "error",
     "traceback": [
      "\u001b[0;31m---------------------------------------------------------------------------\u001b[0m",
      "\u001b[0;31mRuntimeError\u001b[0m                              Traceback (most recent call last)",
      "\u001b[0;32m/tmp/ipykernel_87276/519233463.py\u001b[0m in \u001b[0;36m?\u001b[0;34m()\u001b[0m\n\u001b[1;32m     16\u001b[0m \u001b[0;34m\u001b[0m\u001b[0m\n\u001b[1;32m     17\u001b[0m \u001b[0;31m# # reload compiled mpc\u001b[0m\u001b[0;34m\u001b[0m\u001b[0;34m\u001b[0m\u001b[0m\n\u001b[1;32m     18\u001b[0m \u001b[0mso_path\u001b[0m \u001b[0;34m=\u001b[0m \u001b[0;34m\"./saved/mpc_v1.so\"\u001b[0m\u001b[0;34m\u001b[0m\u001b[0;34m\u001b[0m\u001b[0m\n\u001b[1;32m     19\u001b[0m \u001b[0mprint\u001b[0m\u001b[0;34m(\u001b[0m\u001b[0mso_path\u001b[0m\u001b[0;34m)\u001b[0m\u001b[0;34m\u001b[0m\u001b[0;34m\u001b[0m\u001b[0m\n\u001b[0;32m---> 20\u001b[0;31m \u001b[0msolver\u001b[0m \u001b[0;34m=\u001b[0m \u001b[0mnlpsol\u001b[0m\u001b[0;34m(\u001b[0m\u001b[0;34m\"solver\"\u001b[0m\u001b[0;34m,\u001b[0m \u001b[0;34m\"ipopt\"\u001b[0m\u001b[0;34m,\u001b[0m\u001b[0mso_path\u001b[0m\u001b[0;34m)\u001b[0m\u001b[0;34m\u001b[0m\u001b[0;34m\u001b[0m\u001b[0m\n\u001b[0m",
      "\u001b[0;32m~/miniconda3/envs/do_mpc/lib/python3.11/site-packages/casadi/casadi.py\u001b[0m in \u001b[0;36m?\u001b[0;34m(*args)\u001b[0m\n\u001b[1;32m  28952\u001b[0m \u001b[0;34m\u001b[0m\u001b[0m\n\u001b[1;32m  28953\u001b[0m \u001b[0;34m\u001b[0m\u001b[0m\n\u001b[1;32m  28954\u001b[0m \u001b[0;34m\u001b[0m\u001b[0m\n\u001b[1;32m  28955\u001b[0m     \"\"\"\n\u001b[0;32m> 28956\u001b[0;31m     \u001b[0;32mreturn\u001b[0m \u001b[0m_casadi\u001b[0m\u001b[0;34m.\u001b[0m\u001b[0mnlpsol\u001b[0m\u001b[0;34m(\u001b[0m\u001b[0;34m*\u001b[0m\u001b[0margs\u001b[0m\u001b[0;34m)\u001b[0m\u001b[0;34m\u001b[0m\u001b[0;34m\u001b[0m\u001b[0m\n\u001b[0m",
      "\u001b[0;31mRuntimeError\u001b[0m: .../casadi/core/function_internal.cpp:145: Error calling IpoptInterface::init for 'solver':\nError in Function::factory for 'nlp' [External] at .../casadi/core/function.cpp:1758:\nFailed to create nlp_hess_l:[x, p, lam:f, lam:g]->[triu:hess:gamma:x:x] with {\"gamma\": [f, g]}:\n.../casadi/core/external.cpp:466: Assertion \"s_io[i] == ret.name_out(i)\" failed:\nInconsistent output name. Expected: [triu_hess_gamma_x_x], got hess_gamma_x_x for output 0"
     ]
    }
   ],
   "source": [
    "ipopt_options = {\n",
    "    'verbose': False, \\\n",
    "    \"ipopt.tol\": 1e-4,\n",
    "    \"ipopt.acceptable_tol\": 1e-4,\n",
    "    \"ipopt.max_iter\": 1000,\n",
    "    \"ipopt.warm_start_init_point\": \"yes\",\n",
    "    \"ipopt.print_level\": 0, \n",
    "    \"print_time\": False\n",
    "}\n",
    "\n",
    "# self.solver = ca.nlpsol(\"solver\", \"ipopt\", nlp_dict, ipopt_options)\n",
    "# # jit (just-in-time compilation)\n",
    "# print(\"Generating shared library........\")\n",
    "# cname = self.solver.generate_dependencies(\"mpc_v1.c\")  \n",
    "# system('gcc -fPIC -shared -O3 ' + cname + ' -o ' + self.so_path) # -O3\n",
    "\n",
    "# # reload compiled mpc\n",
    "so_path = \"./saved/mpc_v1.so\"\n",
    "print(so_path)\n",
    "solver = nlpsol(\"solver\", \"ipopt\",so_path)"
   ]
  },
  {
   "cell_type": "code",
   "execution_count": null,
   "metadata": {},
   "outputs": [],
   "source": [
    "setup_mpc = {\n",
    "    'n_horizon': 10,\n",
    "    'n_robust': 2,\n",
    "    'open_loop': 0,\n",
    "    't_step': 0.1,\n",
    "    'state_discretization': 'collocation',\n",
    "    'collocation_type': 'radau',\n",
    "    'collocation_deg': 3,\n",
    "    'collocation_ni': 1,\n",
    "    'store_full_solution': True,\n",
    "    # Use MA27 linear solver in ipopt for faster calculations:\n",
    "    'nlpsol_opts': {'ipopt.solve': 'solver'}\n",
    "}\n",
    "mpc.set_param(**setup_mpc)\n"
   ]
  },
  {
   "cell_type": "code",
   "execution_count": null,
   "metadata": {},
   "outputs": [],
   "source": [
    "# cost matrix for tracking the goal point\n",
    "Q_goal = np.diag([\n",
    "    100, 100, 100,  # delta_x, delta_y, delta_z\n",
    "    10, 10, 10, # delta_qw, delta_qx, delta_qy\n",
    "    10, 10, 10,\n",
    "    10, 10, 10])\n",
    " \n",
    "# cost matrix for the action\n",
    "Q_weights = np.array([0.1, 0.1, 0.1, 0.1, 0.1, 0.1])\n",
    "Q_u = np.diag(Q_weights) # T, wx, wy, wz\n",
    "x_desired = np.array([\n",
    "    0, 0, 0,\n",
    "    0, 0, 0,\n",
    "    0, 0, 0,\n",
    "    0, 0, 0\n",
    "])\n",
    "\n",
    "x_current = vertcat(eta, v)\n",
    "\n",
    "Delta_s = x_current - x_desired"
   ]
  },
  {
   "cell_type": "code",
   "execution_count": null,
   "metadata": {},
   "outputs": [],
   "source": [
    "Delta_s"
   ]
  },
  {
   "cell_type": "code",
   "execution_count": null,
   "metadata": {},
   "outputs": [],
   "source": [
    "cost_goal = Delta_s.T @ Q_goal @ Delta_s \n",
    "# cost_u = thrust.T @ Q_u @ thrust\n",
    "\n",
    "mterm = cost_goal\n",
    "lterm = cost_goal\n",
    "\n",
    "mpc.set_objective(mterm=mterm, lterm=lterm)\n",
    "mpc.set_rterm(thrust=Q_weights)"
   ]
  },
  {
   "cell_type": "code",
   "execution_count": null,
   "metadata": {},
   "outputs": [],
   "source": [
    "cost_goal.shape"
   ]
  },
  {
   "cell_type": "code",
   "execution_count": null,
   "metadata": {},
   "outputs": [],
   "source": [
    "max_states = np.array([inf, inf, inf, pi, pi, pi])\n",
    "min_states = -1 * np.array([inf, inf, 0, pi, pi, pi])\n",
    "# lower bounds of the states\n",
    "mpc.bounds['lower','_x','eta'] = min_states\n",
    "mpc.bounds['upper','_x','eta'] = max_states\n",
    "\n",
    "# lower bounds of the input\n",
    "mpc.bounds['lower','_u','thrust'] = -20 * np.ones([6,1])\n",
    "mpc.bounds['upper','_u','thrust'] =  20 * np.ones([6,1])"
   ]
  },
  {
   "cell_type": "code",
   "execution_count": null,
   "metadata": {},
   "outputs": [],
   "source": [
    "mpc.setup()"
   ]
  },
  {
   "attachments": {},
   "cell_type": "markdown",
   "metadata": {},
   "source": [
    "Estimator"
   ]
  },
  {
   "cell_type": "code",
   "execution_count": null,
   "metadata": {},
   "outputs": [],
   "source": [
    "estimator = do_mpc.estimator.StateFeedback(model)"
   ]
  },
  {
   "attachments": {},
   "cell_type": "markdown",
   "metadata": {},
   "source": [
    "Simulator"
   ]
  },
  {
   "cell_type": "code",
   "execution_count": null,
   "metadata": {},
   "outputs": [],
   "source": [
    "simulator = do_mpc.simulator.Simulator(model)"
   ]
  },
  {
   "cell_type": "code",
   "execution_count": null,
   "metadata": {},
   "outputs": [],
   "source": [
    "params_simulator = {\n",
    "    # Note: cvode doesn't support DAE systems.\n",
    "    'integration_tool': 'idas',\n",
    "    'abstol': 1e-8,\n",
    "    'reltol': 1e-8,\n",
    "    't_step': 0.04\n",
    "}\n",
    "\n",
    "simulator.set_param(**params_simulator)"
   ]
  },
  {
   "cell_type": "code",
   "execution_count": null,
   "metadata": {},
   "outputs": [],
   "source": [
    "simulator.setup()"
   ]
  },
  {
   "cell_type": "code",
   "execution_count": null,
   "metadata": {},
   "outputs": [],
   "source": [
    "# Seed\n",
    "np.random.seed(99)\n",
    "\n",
    "# Initial state\n",
    "e = np.ones([model.n_x,1])\n",
    "x0 = np.random.uniform(-3*e,3*e) # Values between +3 and +3 for all states\n",
    "mpc.x0 = x0\n",
    "simulator.x0 = x0\n",
    "estimator.x0 = x0\n",
    "\n",
    "# Use initial state to set the initial guess.\n",
    "mpc.set_initial_guess()"
   ]
  },
  {
   "cell_type": "code",
   "execution_count": null,
   "metadata": {},
   "outputs": [],
   "source": [
    "u0 = mpc.make_step(x0)"
   ]
  },
  {
   "cell_type": "code",
   "execution_count": null,
   "metadata": {},
   "outputs": [],
   "source": [
    "%%capture\n",
    "for k in range(50):\n",
    "    u0 = mpc.make_step(x0)\n",
    "    print(\"u0:\", u0)\n",
    "    # y_next = simulator.make_step(u0)\n",
    "    # x0 = estimator.make_step(y_next)"
   ]
  },
  {
   "attachments": {},
   "cell_type": "markdown",
   "metadata": {},
   "source": [
    "Displaying the results"
   ]
  },
  {
   "cell_type": "code",
   "execution_count": null,
   "metadata": {},
   "outputs": [],
   "source": [
    "from matplotlib import rcParams\n",
    "rcParams['axes.grid'] = True\n",
    "rcParams['font.size'] = 18"
   ]
  },
  {
   "cell_type": "code",
   "execution_count": null,
   "metadata": {},
   "outputs": [],
   "source": [
    "import matplotlib.pyplot as plt\n",
    "fig, ax, graphics = do_mpc.graphics.default_plot(mpc.data, figsize=(16,9))\n",
    "graphics.plot_results()\n",
    "graphics.reset_axes()\n",
    "plt.show()"
   ]
  }
 ],
 "metadata": {
  "kernelspec": {
   "display_name": "do_mpc",
   "language": "python",
   "name": "python3"
  },
  "language_info": {
   "codemirror_mode": {
    "name": "ipython",
    "version": 3
   },
   "file_extension": ".py",
   "mimetype": "text/x-python",
   "name": "python",
   "nbconvert_exporter": "python",
   "pygments_lexer": "ipython3",
   "version": "3.11.3"
  },
  "orig_nbformat": 4
 },
 "nbformat": 4,
 "nbformat_minor": 2
}

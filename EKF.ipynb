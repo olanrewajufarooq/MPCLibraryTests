{
 "cells": [
  {
   "attachments": {},
   "cell_type": "markdown",
   "metadata": {},
   "source": [
    "Implementation of Extended Kalman Filter for BlueROV\n",
    "\n"
   ]
  },
  {
   "attachments": {},
   "cell_type": "markdown",
   "metadata": {},
   "source": [
    "Import nessecery libraries "
   ]
  },
  {
   "cell_type": "code",
   "execution_count": null,
   "metadata": {},
   "outputs": [],
   "source": [
    "#!/usr/bin/env python\n",
    "import rospy\n",
    "import serial\n",
    "from time import time\n",
    "from sensor_msgs.msg import Imu\n",
    "from geometry_msgs.msg import PoseWithCovarianceStamped, Pose\n",
    "from geometry_msgs.msg import Quaternion\n",
    "from tf.transformations import euler_from_quaternion, quaternion_from_euler\n",
    "from nav_msgs.msg import Odometry\n",
    "import numpy as np\n",
    "from math import cos, sin\n",
    "from numpy import transpose, matmul, array, eye\n",
    "from numpy.linalg import inv"
   ]
  },
  {
   "cell_type": "code",
   "execution_count": null,
   "metadata": {},
   "outputs": [],
   "source": [
    "camera_flag = False\n",
    "axy_sel = array([[1,0,0],[0,1,0],[0,0,0]])\n",
    "wz_sel = array([[0,0,0],[0,0,0],[0,0,1]])\n",
    "tprev = time()\n",
    "\n",
    "covpos_sel = array([[1,0,0],[0,1,0],[0,0,0],[0,0,0],[0,0,0],[0,0,1]])\n",
    "covtwist_sel = np.array([[1,0],[0,1],[0,0],[0,0],[0,0],[0,0]])\n",
    "\n",
    "mu = array([0,0,0,0,0]).reshape(5,1)\n",
    "Sigma = eye(5)\n",
    "\n",
    "Q = eye(3)\n",
    "z = array([0,0,0]).reshape(3,1)"
   ]
  },
  {
   "cell_type": "code",
   "execution_count": null,
   "metadata": {},
   "outputs": [],
   "source": []
  },
  {
   "attachments": {},
   "cell_type": "markdown",
   "metadata": {},
   "source": [
    "Using IMU data and camera (add arUCO as features)"
   ]
  },
  {
   "attachments": {},
   "cell_type": "markdown",
   "metadata": {},
   "source": [
    "Using only IMU data"
   ]
  },
  {
   "attachments": {},
   "cell_type": "markdown",
   "metadata": {},
   "source": []
  }
 ],
 "metadata": {
  "language_info": {
   "name": "python"
  },
  "orig_nbformat": 4
 },
 "nbformat": 4,
 "nbformat_minor": 2
}

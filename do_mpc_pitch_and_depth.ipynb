{
 "cells": [
  {
   "cell_type": "code",
   "execution_count": 664,
   "metadata": {},
   "outputs": [],
   "source": [
    "import numpy as np\n",
    "import sys\n",
    "from casadi import *\n",
    "\n",
    "# Import do_mpc package:\n",
    "import do_mpc\n",
    "import math "
   ]
  },
  {
   "cell_type": "code",
   "execution_count": 665,
   "metadata": {},
   "outputs": [],
   "source": [
    "model_type = 'continuous' # either 'discrete' or 'continuous'\n",
    "model = do_mpc.model.Model(model_type)"
   ]
  },
  {
   "cell_type": "code",
   "execution_count": 666,
   "metadata": {},
   "outputs": [],
   "source": [
    "z = model.set_variable(var_type='_x', var_name='z')\n",
    "theta = model.set_variable(var_type='_x', var_name='theta')\n",
    "z_dot = model.set_variable(var_type='_x', var_name='z_dot')\n",
    "theta_dot = model.set_variable(var_type='_x', var_name='theta_dot')\n",
    "\n",
    "thrust = model.set_variable(var_type='_u', var_name='thrust', shape=(2,1))"
   ]
  },
  {
   "attachments": {},
   "cell_type": "markdown",
   "metadata": {},
   "source": [
    "Parameters"
   ]
  },
  {
   "cell_type": "code",
   "execution_count": 667,
   "metadata": {},
   "outputs": [],
   "source": [
    "x_g = 0\n",
    "y_g = 0\n",
    "z_g = 0\n",
    "x_b = 0\n",
    "y_b = 0\n",
    "z_b = -0.01\n",
    "\n",
    "#added mass coefficients\n",
    "X_ud = 6.356673886738176\n",
    "Y_vd = 7.120600295756984\n",
    "Z_wd = 18.686326861534997\n",
    "K_pd = 0.185765630747592\n",
    "M_qd = 0.134823349429660\n",
    "N_rd = 0.221510466644690\n",
    "#drag \n",
    "Xu = {\"Linear\": 13.7, \"NonLinear\": 141}\n",
    "Yv = {\"Linear\": 0, \"NonLinear\": 217}\n",
    "Zw = {\"Linear\": 33, \"NonLinear\": 190}\n",
    "Kp = {\"Linear\": 0, \"NonLinear\": 1.192}\n",
    "Mq = {\"Linear\": 0.8, \"NonLinear\": 0.470}\n",
    "Nr = {\"Linear\": 0, \"NonLinear\": 1.5}\n",
    "\n",
    "m = 13.5 # Mass of the Robot\n",
    "\n",
    "I_x, I_y, I_z = 0.26, 0.23, 0.37 # Mass Moments of Inertia\n",
    "\n",
    "L_h, L_w, L_l = 0.378, 0.575, 0.457 \n",
    "\n",
    "A_F, A_S, A_T = 0.0877, 0.1131, 0.2049\n",
    "\n",
    "Volume = 0.0135\n",
    "\n",
    "Ic = np.array([[0.26, 0, 0],\n",
    "      [0, 0.23, 0],\n",
    "      [0, 0, 0.37]])\n",
    "\n",
    "Ap_F, Ap_S, Ap_T = 0.1727, 0.2174, 0.2628"
   ]
  },
  {
   "attachments": {},
   "cell_type": "markdown",
   "metadata": {},
   "source": [
    "System dynamics"
   ]
  },
  {
   "cell_type": "code",
   "execution_count": 668,
   "metadata": {},
   "outputs": [
    {
     "data": {
      "text/plain": [
       "SX([(z_dot/cos(theta)), theta_dot])"
      ]
     },
     "execution_count": 668,
     "metadata": {},
     "output_type": "execute_result"
    }
   ],
   "source": [
    "# v = [u v w p q r] eta = J v\n",
    "J = np.array([[cos(theta), 0],\n",
    "        [0, 1]])\n",
    "Jinv = inv(J)\n",
    "Jinv_T = transpose(Jinv)\n",
    "Jinv @ vertcat(z_dot, theta_dot)"
   ]
  },
  {
   "cell_type": "code",
   "execution_count": 669,
   "metadata": {},
   "outputs": [],
   "source": [
    "\n",
    "M_RB = np.array([[m, 0],\n",
    "              [0, I_y]])\n",
    "M_A = -1 *np.array([[Z_wd, 0],\n",
    "              [0, M_qd]])\n",
    "M = M_RB + M_A\n",
    "\n",
    "D_lin = np.array([[Zw[\"Linear\"], 0],\n",
    "              [0, Mq[\"Linear\"]]])\n",
    "\n",
    "D_nonlin = np.array([[Zw[\"NonLinear\"] * z_dot/cos(theta), 0],\n",
    "              [0, Mq[\"NonLinear\"] * theta_dot]])\n",
    "D = D_lin + D_nonlin\n",
    "\n",
    "W = m * 9.81\n",
    "B = 1025 * Volume * 9.81\n",
    "\n",
    "# G = vertcat(\n",
    "#     -(W - B) * cos(theta),\n",
    "#     (z_g*W - z_b*B)*sin(theta) + (x_g*W - x_b*B)*cos(theta)\n",
    "#     )\n",
    "G =vertcat(\n",
    "    -(W - B),\n",
    "    W * z_g * sin(theta)\n",
    ")\n",
    "\n",
    "M_star = Jinv_T @ M @ Jinv\n",
    "D_star = Jinv_T @ D @ Jinv\n",
    "G_star = Jinv_T @ G\n",
    "thrust_star = Jinv_T @ thrust\n",
    "\n"
   ]
  },
  {
   "cell_type": "code",
   "execution_count": 670,
   "metadata": {},
   "outputs": [
    {
     "data": {
      "text/plain": [
       "SX(@1=cos(theta), @2=0, \n",
       "[[((-5.18633/@1)/@1), @2], \n",
       " [@2, 0.0951767]])"
      ]
     },
     "execution_count": 670,
     "metadata": {},
     "output_type": "execute_result"
    }
   ],
   "source": [
    "M_star"
   ]
  },
  {
   "cell_type": "code",
   "execution_count": 671,
   "metadata": {},
   "outputs": [],
   "source": [
    "z_ddot = model.set_variable('_z', 'z_ddot')\n",
    "theta_ddot = model.set_variable('_z', 'theta_ddot')\n",
    "x_ddot = vertcat(z_ddot, theta_ddot)\n",
    "x_dot = vertcat(z_dot, theta_dot)"
   ]
  },
  {
   "cell_type": "code",
   "execution_count": 672,
   "metadata": {},
   "outputs": [],
   "source": [
    "# x_ddot = inv(M_star) @  (thrust_star - D_star @ x_dot - G_star ) \n",
    "# x_ddot[1]"
   ]
  },
  {
   "cell_type": "code",
   "execution_count": 673,
   "metadata": {},
   "outputs": [],
   "source": [
    "model.set_rhs('z', z_dot)\n",
    "model.set_rhs('theta', theta_dot)\n",
    "model.set_rhs('z_dot', z_ddot)\n",
    "model.set_rhs('theta_dot', theta_ddot)"
   ]
  },
  {
   "cell_type": "code",
   "execution_count": 674,
   "metadata": {},
   "outputs": [],
   "source": [
    "euler_lagrange = M_star @ x_ddot + D_star @ x_dot + G_star - thrust_star\n",
    "model.set_alg('euler_lagrange', euler_lagrange)"
   ]
  },
  {
   "cell_type": "code",
   "execution_count": 675,
   "metadata": {},
   "outputs": [],
   "source": [
    "_x = vertcat(z, theta, z_dot, theta_dot)"
   ]
  },
  {
   "cell_type": "code",
   "execution_count": 676,
   "metadata": {},
   "outputs": [
    {
     "data": {
      "text/plain": [
       "SX((((sq(z)+sq(theta))+sq(z_dot))+sq(theta_dot)))"
      ]
     },
     "execution_count": 676,
     "metadata": {},
     "output_type": "execute_result"
    }
   ],
   "source": [
    "model.set_expression(expr_name='cost', expr=casadi.sum1(_x**2))"
   ]
  },
  {
   "cell_type": "code",
   "execution_count": 677,
   "metadata": {},
   "outputs": [],
   "source": [
    "model.setup()"
   ]
  },
  {
   "attachments": {},
   "cell_type": "markdown",
   "metadata": {},
   "source": [
    "Controller"
   ]
  },
  {
   "cell_type": "code",
   "execution_count": 678,
   "metadata": {},
   "outputs": [],
   "source": [
    "mpc = do_mpc.controller.MPC(model)"
   ]
  },
  {
   "cell_type": "code",
   "execution_count": 679,
   "metadata": {},
   "outputs": [],
   "source": [
    "setup_mpc = {\n",
    "    'n_horizon': 10,\n",
    "    'n_robust': 2,\n",
    "    'open_loop': 0,\n",
    "    't_step': 0.04,\n",
    "    'state_discretization': 'collocation',\n",
    "    'collocation_type': 'radau',\n",
    "    'collocation_deg': 3,\n",
    "    'collocation_ni': 1,\n",
    "    'store_full_solution': True,\n",
    "    # Use MA27 linear solver in ipopt for faster calculations:\n",
    "    'nlpsol_opts': {'ipopt.linear_solver': 'mumps'}\n",
    "}\n",
    "mpc.set_param(**setup_mpc)"
   ]
  },
  {
   "cell_type": "code",
   "execution_count": null,
   "metadata": {},
   "outputs": [],
   "source": [
    "# # cost matrix for tracking the goal point\n",
    "# Q_goal = np.diag([\n",
    "#     100, 100,\n",
    "#     10, 10])\n",
    " \n",
    "# # cost matrix for the action\n",
    "# Q_weights = np.array([0.1, 0.1])\n",
    "# Q_u = np.diag(Q_weights) # T, wx, wy, wz\n",
    "# x_desired = np.array([\n",
    "#     10, 0, \n",
    "#     0, 0\n",
    "# ])\n",
    "\n",
    "# x_current = vertcat(z, theta, z_dot, theta_dot)\n",
    "\n",
    "# Delta_s = x_current - x_desired"
   ]
  },
  {
   "cell_type": "code",
   "execution_count": 680,
   "metadata": {},
   "outputs": [],
   "source": [
    "# cost_goal = Delta_s.T @ Q_goal @ Delta_s \n",
    "# # cost_u = thrust.T @ Q_u @ thrust\n",
    "\n",
    "# mterm = cost_goal\n",
    "# lterm = cost_goal\n",
    "mterm = model.aux['cost'] # terminal cost\n",
    "lterm = model.aux['cost'] # terminal cost\n",
    " # stage cost\n",
    "\n",
    "mpc.set_objective(mterm=mterm, lterm=lterm)\n",
    "\n",
    "# mpc.set_rterm(thrust=1e-2) # input penalty\n",
    "# mpc.set_rterm(thrust[1]=1e-2) # input penalty"
   ]
  },
  {
   "cell_type": "code",
   "execution_count": null,
   "metadata": {},
   "outputs": [],
   "source": [
    "mterm.shape"
   ]
  },
  {
   "cell_type": "code",
   "execution_count": null,
   "metadata": {},
   "outputs": [],
   "source": [
    "# max_x = np.array([[4.0], [10.0], [4.0], [10.0]])\n",
    "\n",
    "# # lower bounds of the states\n",
    "# mpc.bounds['lower','_x','z'] = 0\n",
    "# mpc.bounds['lower','_x','theta'] = -pi\n",
    "\n",
    "# # upper bounds of the states\n",
    "# mpc.bounds['upper','_x','z'] = 20\n",
    "# mpc.bounds['upper','_x','theta'] = pi\n",
    "# # lower bounds of the input\n",
    "# mpc.bounds['lower','_u','thrust'] = -20 * np.ones([2,1])\n",
    "# # upper bounds of the input\n",
    "# mpc.bounds['upper','_u','thrust'] =  20 * np.ones([2,1])"
   ]
  },
  {
   "cell_type": "code",
   "execution_count": 681,
   "metadata": {},
   "outputs": [
    {
     "ename": "UnboundLocalError",
     "evalue": "cannot access local variable 'ifcn' where it is not associated with a value",
     "output_type": "error",
     "traceback": [
      "\u001b[0;31m---------------------------------------------------------------------------\u001b[0m",
      "\u001b[0;31mUnboundLocalError\u001b[0m                         Traceback (most recent call last)",
      "Cell \u001b[0;32mIn[681], line 1\u001b[0m\n\u001b[0;32m----> 1\u001b[0m mpc\u001b[39m.\u001b[39;49msetup()\n",
      "File \u001b[0;32m~/miniconda3/envs/do_mpc/lib/python3.11/site-packages/do_mpc/controller/_mpc.py:845\u001b[0m, in \u001b[0;36mMPC.setup\u001b[0;34m(self)\u001b[0m\n\u001b[1;32m    826\u001b[0m \u001b[39mdef\u001b[39;00m \u001b[39msetup\u001b[39m(\u001b[39mself\u001b[39m)\u001b[39m-\u001b[39m\u001b[39m>\u001b[39m\u001b[39mNone\u001b[39;00m:\n\u001b[1;32m    827\u001b[0m \u001b[39m    \u001b[39m\u001b[39m\"\"\"Setup the MPC class.\u001b[39;00m\n\u001b[1;32m    828\u001b[0m \u001b[39m    Internally, this method will create the MPC optimization problem under consideration\u001b[39;00m\n\u001b[1;32m    829\u001b[0m \u001b[39m    of the supplied dynamic model and the given :py:class:`MPC` class instance configuration.\u001b[39;00m\n\u001b[0;32m   (...)\u001b[0m\n\u001b[1;32m    843\u001b[0m \n\u001b[1;32m    844\u001b[0m \u001b[39m    \"\"\"\u001b[39;00m\n\u001b[0;32m--> 845\u001b[0m     \u001b[39mself\u001b[39;49m\u001b[39m.\u001b[39;49mprepare_nlp()\n\u001b[1;32m    846\u001b[0m     \u001b[39mself\u001b[39m\u001b[39m.\u001b[39mcreate_nlp()\n",
      "File \u001b[0;32m~/miniconda3/envs/do_mpc/lib/python3.11/site-packages/do_mpc/optimizer.py:1059\u001b[0m, in \u001b[0;36mOptimizer.prepare_nlp\u001b[0;34m(self)\u001b[0m\n\u001b[1;32m   1039\u001b[0m \u001b[39m\u001b[39m\u001b[39m\"\"\"Prepare the optimization problem.\u001b[39;00m\n\u001b[1;32m   1040\u001b[0m \u001b[39mTypically, this method is called internally from :py:meth:`setup`.\u001b[39;00m\n\u001b[1;32m   1041\u001b[0m \n\u001b[0;32m   (...)\u001b[0m\n\u001b[1;32m   1056\u001b[0m \u001b[39m    None\u001b[39;00m\n\u001b[1;32m   1057\u001b[0m \u001b[39m\"\"\"\u001b[39;00m\n\u001b[1;32m   1058\u001b[0m \u001b[39m# MPC and MHE have similar methods. The documentation is valid for both of them.\u001b[39;00m\n\u001b[0;32m-> 1059\u001b[0m \u001b[39mself\u001b[39;49m\u001b[39m.\u001b[39;49m_prepare_nlp()\n",
      "File \u001b[0;32m~/miniconda3/envs/do_mpc/lib/python3.11/site-packages/do_mpc/controller/_mpc.py:999\u001b[0m, in \u001b[0;36mMPC._prepare_nlp\u001b[0;34m(self)\u001b[0m\n\u001b[1;32m    996\u001b[0m \u001b[39mself\u001b[39m\u001b[39m.\u001b[39m_check_validity()\n\u001b[1;32m    998\u001b[0m \u001b[39m# Obtain an integrator (collocation, discrete-time) and the amount of intermediate (collocation) points\u001b[39;00m\n\u001b[0;32m--> 999\u001b[0m ifcn, n_total_coll_points \u001b[39m=\u001b[39m \u001b[39mself\u001b[39;49m\u001b[39m.\u001b[39;49m_setup_discretization()\n\u001b[1;32m   1000\u001b[0m n_branches, n_scenarios, child_scenario, parent_scenario, branch_offset \u001b[39m=\u001b[39m \u001b[39mself\u001b[39m\u001b[39m.\u001b[39m_setup_scenario_tree()\n\u001b[1;32m   1002\u001b[0m \u001b[39m# How many scenarios arise from the scenario tree (robust multi-stage MPC)\u001b[39;00m\n",
      "File \u001b[0;32m~/miniconda3/envs/do_mpc/lib/python3.11/site-packages/do_mpc/optimizer.py:985\u001b[0m, in \u001b[0;36mOptimizer._setup_discretization\u001b[0;34m(self)\u001b[0m\n\u001b[1;32m    982\u001b[0m     ifcn \u001b[39m=\u001b[39m castools\u001b[39m.\u001b[39mFunction(\u001b[39m\"\u001b[39m\u001b[39mifcn\u001b[39m\u001b[39m\"\u001b[39m, [xk0, ik, uk, zk, tv_pk, pk, wk], [gk, xkf])\n\u001b[1;32m    984\u001b[0m     \u001b[39m# Return the integration function and the number of collocation points\u001b[39;00m\n\u001b[0;32m--> 985\u001b[0m \u001b[39mreturn\u001b[39;00m ifcn, n_total_coll_points\n",
      "\u001b[0;31mUnboundLocalError\u001b[0m: cannot access local variable 'ifcn' where it is not associated with a value"
     ]
    }
   ],
   "source": [
    "mpc.setup()"
   ]
  },
  {
   "cell_type": "code",
   "execution_count": null,
   "metadata": {},
   "outputs": [],
   "source": [
    "estimator = do_mpc.estimator.StateFeedback(model)"
   ]
  },
  {
   "cell_type": "markdown",
   "metadata": {},
   "source": [
    "Simulator"
   ]
  },
  {
   "cell_type": "code",
   "execution_count": null,
   "metadata": {},
   "outputs": [],
   "source": [
    "simulator = do_mpc.simulator.Simulator(model)"
   ]
  },
  {
   "cell_type": "code",
   "execution_count": null,
   "metadata": {},
   "outputs": [],
   "source": [
    "params_simulator = {\n",
    "    # Note: cvode doesn't support DAE systems.\n",
    "    'integration_tool': 'runge_kutta_4',\n",
    "    'abstol': 1e-8,\n",
    "    'reltol': 1e-8,\n",
    "    't_step': 0.04\n",
    "}\n",
    "\n",
    "simulator.set_param(**params_simulator)"
   ]
  },
  {
   "cell_type": "code",
   "execution_count": null,
   "metadata": {},
   "outputs": [],
   "source": [
    "simulator.setup()"
   ]
  },
  {
   "cell_type": "code",
   "execution_count": null,
   "metadata": {},
   "outputs": [],
   "source": [
    "# Seed\n",
    "np.random.seed(99)\n",
    "\n",
    "# Initial state\n",
    "e = np.ones([model.n_x,1])\n",
    "x0 = np.random.uniform(-3*e,3*e) # Values between +3 and +3 for all states\n",
    "mpc.x0 = x0\n",
    "simulator.x0 = x0\n",
    "estimator.x0 = x0\n",
    "\n",
    "# Use initial state to set the initial guess.\n",
    "mpc.set_initial_guess()"
   ]
  },
  {
   "cell_type": "code",
   "execution_count": null,
   "metadata": {},
   "outputs": [],
   "source": [
    "x0"
   ]
  },
  {
   "cell_type": "code",
   "execution_count": null,
   "metadata": {},
   "outputs": [],
   "source": [
    "u0 = mpc.make_step(x0)"
   ]
  },
  {
   "cell_type": "code",
   "execution_count": null,
   "metadata": {},
   "outputs": [],
   "source": [
    "%%capture\n",
    "for k in range(50):\n",
    "    u0 = mpc.make_step(x0)\n",
    "    print(\"u0:\", u0)\n",
    "    y_next = simulator.make_step(u0)\n",
    "    x0 = estimator.make_step(y_next)"
   ]
  },
  {
   "cell_type": "markdown",
   "metadata": {},
   "source": [
    "Displaying the results"
   ]
  },
  {
   "cell_type": "code",
   "execution_count": null,
   "metadata": {},
   "outputs": [],
   "source": [
    "from matplotlib import rcParams\n",
    "rcParams['axes.grid'] = True\n",
    "rcParams['font.size'] = 18"
   ]
  },
  {
   "cell_type": "code",
   "execution_count": null,
   "metadata": {},
   "outputs": [],
   "source": [
    "import matplotlib.pyplot as plt\n",
    "fig, ax, graphics = do_mpc.graphics.default_plot(mpc.data, figsize=(16,9))\n",
    "graphics.plot_results()\n",
    "graphics.reset_axes()\n",
    "plt.show()"
   ]
  }
 ],
 "metadata": {
  "kernelspec": {
   "display_name": "do_mpc",
   "language": "python",
   "name": "python3"
  },
  "language_info": {
   "codemirror_mode": {
    "name": "ipython",
    "version": 3
   },
   "file_extension": ".py",
   "mimetype": "text/x-python",
   "name": "python",
   "nbconvert_exporter": "python",
   "pygments_lexer": "ipython3",
   "version": "3.11.3"
  },
  "orig_nbformat": 4
 },
 "nbformat": 4,
 "nbformat_minor": 2
}
